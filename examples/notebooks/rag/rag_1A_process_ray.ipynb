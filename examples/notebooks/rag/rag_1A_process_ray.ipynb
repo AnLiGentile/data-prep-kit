{
 "cells": [
  {
   "cell_type": "markdown",
   "id": "841e533d-ebb3-406d-9da7-b19e2c5f5866",
   "metadata": {},
   "source": [
    "<div style=\"background-color: #04D7FD; padding: 20px; text-align: left;\">\n",
    "    <h1 style=\"color: #000000; font-size: 36px; margin: 0;\">Demo: RAG with Data Prep Kit</h1>\n",
    "    \n",
    "</div>\n"
   ]
  },
  {
   "cell_type": "markdown",
   "id": "b15976e3",
   "metadata": {},
   "source": [
    "## Before Running the notebook\n",
    "\n",
    "Please complete [setting up python dev environment](./setup-python-dev-env.md)"
   ]
  },
  {
   "cell_type": "markdown",
   "id": "053ecf08-5f62-4b99-9347-8a0955843d21",
   "metadata": {},
   "source": [
    "## Overview\n",
    "\n",
    "This notebook will process PDF documents as part of RAG pipeline\n",
    "\n",
    "![](media/rag-overview-2.png)\n",
    "\n",
    "This notebook will perform steps 1, 2 and 3 in RAG pipeline.\n",
    "\n",
    "- [pdf2parquet](#pdf2parquet)\n",
    "- [Chunk documents](#chunking)\n",
    "- [Exact Dedup](#item3)\n",
    "- [Doc_ID generation](#item4)\n",
    "- [Fuzzy Dedup](#item5)\n",
    "- [Language detection](#item6)\n",
    "- [Doc quality](#item7)\n",
    "- [Filtering](#item8)\n",
    "- [Text encoder](#item9)"
   ]
  },
  {
   "cell_type": "markdown",
   "id": "e8b10be1",
   "metadata": {},
   "source": [
    "## Step-1: Configuration"
   ]
  },
  {
   "cell_type": "code",
   "execution_count": 1,
   "id": "33345487",
   "metadata": {},
   "outputs": [],
   "source": [
    "## Configuration\n",
    "\n",
    "class MyConfig:\n",
    "    pass \n",
    "\n",
    "MY_CONFIG = MyConfig ()"
   ]
  },
  {
   "cell_type": "code",
   "execution_count": 2,
   "id": "f00e657c-36ab-4d77-8a02-4d374d9cedbd",
   "metadata": {},
   "outputs": [],
   "source": [
    "import os \n",
    "\n",
    "## Input Data - configure this to the folder we want to process\n",
    "MY_CONFIG.INPUT_DATA_DIR = \"input_data/walmart-reports-1\"\n",
    "\n",
    "## RAY CONFIGURATION\n",
    "num_cpus_available =  os.cpu_count()\n",
    "# print (num_cpus_available)\n",
    "# MY_CONFIG.RAY_NUM_CPUS = num_cpus_available // 2  ## use half the available cores for processing\n",
    "MY_CONFIG.RAY_NUM_CPUS =  0.8\n",
    "# print (MY_CONFIG.RAY_NUM_CPUS)\n",
    "MY_CONFIG.RAY_MEMORY_GB = 2  # GB\n",
    "# MY_CONFIG.RAY_RUNTIME_WORKERS = num_cpus_available // 3\n",
    "MY_CONFIG.RAY_RUNTIME_WORKERS = 3\n",
    "\n",
    "## Embedding model\n",
    "MY_CONFIG.EMBEDDING_MODEL = 'sentence-transformers/all-MiniLM-L6-v2'"
   ]
  },
  {
   "cell_type": "markdown",
   "id": "72510ae6-48b0-4b88-9e13-a623281c3a63",
   "metadata": {},
   "source": [
    "### Set input/output path variables for the pipeline"
   ]
  },
  {
   "cell_type": "code",
   "execution_count": 3,
   "id": "60ac8bee-0960-4309-b225-d7a211b14262",
   "metadata": {},
   "outputs": [],
   "source": [
    "import os, sys\n",
    "import shutil\n",
    "\n",
    "## To process a different dataset, change it here\n",
    "pdf_input_folder = MY_CONFIG.INPUT_DATA_DIR \n",
    "\n",
    "if not os.path.exists(pdf_input_folder):\n",
    "    raise Exception (f\"❌ Input folder MY_CONFIG.INPUT_DATA_DIR = '{MY_CONFIG.INPUT_DATA_DIR}' not found\")\n",
    "\n",
    "output_folder = \"output\"\n",
    "\n",
    "parquet_data_output = os.path.join(output_folder, \"01_parquet_input\")\n",
    "chunk_out =  os.path.join(output_folder, \"02_chunk_out\")\n",
    "ededup_out =  os.path.join(output_folder, \"03_ededup_out\")\n",
    "doc_id_out =  os.path.join(output_folder, \"04_doc_id_out\")\n",
    "fdedup_out = os.path.join(output_folder, \"05_fdedup_out\")\n",
    "lang_out =  os.path.join(output_folder,\"06_lang_out\")\n",
    "dq_out = os.path.join(output_folder,\"07_dq_out\")\n",
    "filter_out = os.path.join(output_folder ,\"08_filter_out\")\n",
    "encoder_out = os.path.join(output_folder ,\"09_encoder_out\")\n",
    "\n",
    "output_folder_final = os.path.join(output_folder ,\"z_final_output\")\n",
    "\n",
    "## clear output folder\n",
    "shutil.rmtree(output_folder, ignore_errors=True)\n",
    "shutil.os.makedirs(output_folder, exist_ok=True)"
   ]
  },
  {
   "cell_type": "markdown",
   "id": "bd5d976e-cb4c-4469-af39-4b7ea507e9d8",
   "metadata": {},
   "source": [
    "### Import Common python modules"
   ]
  },
  {
   "cell_type": "code",
   "execution_count": 4,
   "id": "66178913-42b8-426b-a2e9-9587268fd05b",
   "metadata": {},
   "outputs": [],
   "source": [
    "\n",
    "import os\n",
    "import sys\n",
    "\n",
    "# Main repo root\n",
    "from utils import rootdir\n",
    "\n",
    "from data_processing_ray.runtime.ray import RayTransformLauncher\n",
    "from data_processing.runtime.pure_python import PythonTransformLauncher\n",
    "from data_processing.utils import ParamsUtils"
   ]
  },
  {
   "cell_type": "markdown",
   "id": "2449e5c7-078c-4ad6-a2f6-21d39d4da3fb",
   "metadata": {},
   "source": [
    "<a id=\"pdf2parquet\"></a>\n",
    "\n",
    "## Step-2. Convert data to parquet using pdf2parquet\n",
    "\n",
    "This step is reading the input folder containing all PDF files and ingest them in a parquet table using the [Docling package](https://github.com/DS4SD/docling).\n",
    "The documents are converted into a JSON format which allows to easily chunk it in the later steps.\n",
    "\n"
   ]
  },
  {
   "cell_type": "markdown",
   "id": "c0c574c4-9dc4-4dab-9ad6-b5338207e67a",
   "metadata": {},
   "source": [
    "### Set Input/output Folder"
   ]
  },
  {
   "cell_type": "code",
   "execution_count": 5,
   "id": "482605b2-d814-456d-9195-49a2ec454ef0",
   "metadata": {},
   "outputs": [
    {
     "name": "stdout",
     "output_type": "stream",
     "text": [
      "Processing input='input_data/walmart-reports-1' --> output='output/01_parquet_input'\n"
     ]
    }
   ],
   "source": [
    "input_folder = pdf_input_folder\n",
    "output_folder =  parquet_data_output\n",
    "\n",
    "print (f\"Processing input='{input_folder}' --> output='{output_folder}'\")"
   ]
  },
  {
   "cell_type": "markdown",
   "id": "9bb15f02-ab5c-4525-a536-cfa1fd2ba70b",
   "metadata": {},
   "source": [
    "### Execute "
   ]
  },
  {
   "cell_type": "code",
   "execution_count": 6,
   "id": "b0cd8ebd-bf71-42d6-a397-8df0c7b66a26",
   "metadata": {},
   "outputs": [
    {
     "name": "stderr",
     "output_type": "stream",
     "text": [
      "12:27:42 INFO - Running locally\n",
      "12:27:42 INFO - pdf2parquet parameters are : {'artifacts_path': None, 'contents_type': <pdf2parquet_contents_types.JSON: 'application/json'>, 'do_table_structure': True, 'do_ocr': False}\n",
      "12:27:42 INFO - data factory data_ is using local data access: input_folder - input_data/walmart-reports-1 output_folder - output/01_parquet_input\n",
      "12:27:42 INFO - data factory data_ max_files -1, n_sample -1\n",
      "12:27:42 INFO - data factory data_ Not using data sets, checkpointing False, max files -1, random samples -1, files to use ['.pdf'], files to checkpoint ['.parquet']\n",
      "12:27:42 INFO - pipeline id pipeline_id\n",
      "12:27:42 INFO - code location {'github': 'github', 'commit_hash': '12345', 'path': 'path'}\n",
      "12:27:42 INFO - number of workers 3 worker options {'num_cpus': 0.8, 'memory': 2147483648, 'max_restarts': -1}\n",
      "12:27:42 INFO - actor creation delay 0\n",
      "12:27:42 INFO - job details {'job category': 'preprocessing', 'job name': 'pdf2parquet', 'job type': 'ray', 'job id': 'job_id'}\n",
      "2024-08-13 12:27:44,919\tINFO worker.py:1744 -- Started a local Ray instance. View the dashboard at \u001b[1m\u001b[32m127.0.0.1:8265 \u001b[39m\u001b[22m\n",
      "\u001b[36m(orchestrate pid=1354957)\u001b[0m 12:27:49 INFO - orchestrator started at 2024-08-13 12:27:49\n",
      "\u001b[36m(orchestrate pid=1354957)\u001b[0m 12:27:49 INFO - Number of files is 3, source profile {'max_file_size': 4.640201568603516, 'min_file_size': 1.5370569229125977, 'total_file_size': 10.817460060119629}\n",
      "\u001b[36m(orchestrate pid=1354957)\u001b[0m 12:27:49 INFO - Cluster resources: {'cpus': 16, 'gpus': 1, 'memory': 7.251576233655214, 'object_store': 3.6257881158962846}\n",
      "\u001b[36m(orchestrate pid=1354957)\u001b[0m 12:27:49 INFO - Number of workers - 3 with {'num_cpus': 0.8, 'memory': 2147483648, 'max_restarts': -1} each\n",
      "\u001b[36m(orchestrate pid=1354957)\u001b[0m 12:27:49 INFO - Completed 0 files (0.0%)  in 8.79367192586263e-06 min. Waiting for completion\n",
      "\u001b[36m(RayTransformFileProcessor pid=1355900)\u001b[0m 12:27:52 INFO - Initializing models\n",
      "Fetching 7 files: 100%|██████████| 7/7 [00:00<00:00, 145347.17it/s]\n",
      "\u001b[36m(RayTransformFileProcessor pid=1355900)\u001b[0m 2024-08-13 12:33:30.279 ( 340.345s) [         C1E4740]    doc_normalisation.h:448   WARN| found new `other` type: checkbox-unselected\n",
      "\u001b[36m(RayTransformFileProcessor pid=1355901)\u001b[0m 12:27:52 INFO - Initializing models\u001b[32m [repeated 2x across cluster] (Ray deduplicates logs by default. Set RAY_DEDUP_LOGS=0 to disable log deduplication, or see https://docs.ray.io/en/master/ray-observability/user-guides/configure-logging.html#log-deduplication for more options.)\u001b[0m\n",
      "Fetching 7 files: 100%|██████████| 7/7 [00:00<00:00, 159565.91it/s]\u001b[32m [repeated 2x across cluster]\u001b[0m\n",
      "\u001b[36m(RayTransformFileProcessor pid=1355900)\u001b[0m 2024-08-13 12:33:32.444 ( 342.510s) [         C1E4740]          crf_model.cpp:2096   ERR| sequence is too long: 1000 > 1011\n",
      "\u001b[36m(RayTransformFileProcessor pid=1355900)\u001b[0m 2024-08-13 12:33:32.920 ( 342.986s) [         C1E4740]          crf_model.cpp:2096   ERR| sequence is too long: 1000 > 1037\n",
      "\u001b[36m(RayTransformFileProcessor pid=1355900)\u001b[0m 2024-08-13 12:33:32.985 ( 343.051s) [         C1E4740]          crf_model.cpp:2096   ERR| sequence is too long: 1000 > 1176\n",
      "\u001b[36m(RayTransformFileProcessor pid=1355900)\u001b[0m 2024-08-13 12:33:33.288 ( 343.353s) [         C1E4740]          crf_model.cpp:2096   ERR| sequence is too long: 1000 > 1321\n",
      "\u001b[36m(RayTransformFileProcessor pid=1355900)\u001b[0m 2024-08-13 12:33:33.650 ( 343.716s) [         C1E4740]          crf_model.cpp:2096   ERR| sequence is too long: 1000 > 1103\n",
      "\u001b[36m(RayTransformFileProcessor pid=1355899)\u001b[0m 2024-08-13 12:33:33.357 ( 343.403s) [        6E928740]    doc_normalisation.h:448   WARN| found new `other` type: checkbox-unselected\n",
      "\u001b[36m(RayTransformFileProcessor pid=1355901)\u001b[0m 2024-08-13 12:33:43.655 ( 353.698s) [        F3DAD740]    doc_normalisation.h:448   WARN| found new `other` type: checkbox-unselected\n",
      "\u001b[36m(RayTransformFileProcessor pid=1355901)\u001b[0m 2024-08-13 12:33:43.655 ( 353.698s) [        F3DAD740]    doc_normalisation.h:448   WARN| found new `other` type: checkbox-selected\n",
      "\u001b[36m(RayTransformFileProcessor pid=1355901)\u001b[0m 2024-08-13 12:33:43.655 ( 353.698s) [        F3DAD740]    doc_normalisation.h:448   WARN| found new `other` type: checkbox-unselected\n",
      "\u001b[36m(RayTransformFileProcessor pid=1355901)\u001b[0m 2024-08-13 12:33:43.655 ( 353.698s) [        F3DAD740]    doc_normalisation.h:448   WARN| found new `other` type: checkbox-unselected\n",
      "\u001b[36m(RayTransformFileProcessor pid=1355901)\u001b[0m 2024-08-13 12:33:43.655 ( 353.698s) [        F3DAD740]    doc_normalisation.h:448   WARN| found new `other` type: checkbox-selected\n",
      "\u001b[36m(RayTransformFileProcessor pid=1355899)\u001b[0m 2024-08-13 12:33:36.700 ( 346.746s) [        6E928740]          crf_model.cpp:2096   ERR| sequence is too long: 1000 > 1103\u001b[32m [repeated 5x across cluster]\u001b[0m\n",
      "\u001b[36m(orchestrate pid=1354957)\u001b[0m 12:33:47 INFO - Completed processing 3 files in 5.974487284819285 min\n",
      "\u001b[36m(orchestrate pid=1354957)\u001b[0m 12:33:47 INFO - done flushing in 0.0009799003601074219 sec\n",
      "12:33:57 INFO - Completed execution in 6.243724270661672 min, execution result 0\n"
     ]
    },
    {
     "name": "stdout",
     "output_type": "stream",
     "text": [
      "CPU times: user 3.82 s, sys: 666 ms, total: 4.48 s\n",
      "Wall time: 6min 19s\n"
     ]
    },
    {
     "data": {
      "text/plain": [
       "0"
      ]
     },
     "execution_count": 6,
     "metadata": {},
     "output_type": "execute_result"
    }
   ],
   "source": [
    "%%time \n",
    "\n",
    "import ast\n",
    "import os\n",
    "import sys\n",
    "\n",
    "from pdf2parquet_transform import (\n",
    "    pdf2parquet_contents_type_cli_param,\n",
    "    pdf2parquet_contents_types,\n",
    ")\n",
    "from pdf2parquet_transform_python import Pdf2ParquetPythonTransformConfiguration\n",
    "from pdf2parquet_transform_ray import Pdf2ParquetRayTransformConfiguration\n",
    "\n",
    "from data_processing.utils import GB, ParamsUtils\n",
    "\n",
    "\n",
    "# create parameters\n",
    "local_conf = {\n",
    "    \"input_folder\": input_folder,\n",
    "    \"output_folder\": output_folder,\n",
    "}\n",
    "worker_options = {\"num_cpus\" : MY_CONFIG.RAY_NUM_CPUS, \"memory\": MY_CONFIG.RAY_MEMORY_GB * GB}\n",
    "code_location = {\"github\": \"github\", \"commit_hash\": \"12345\", \"path\": \"path\"}\n",
    "ingest_config = {\n",
    "    pdf2parquet_contents_type_cli_param: pdf2parquet_contents_types.JSON,\n",
    "}\n",
    "\n",
    "params = {\n",
    "    # where to run\n",
    "    \"run_locally\": True,\n",
    "    # Data access. Only required parameters are specified\n",
    "    \"data_local_config\": ParamsUtils.convert_to_ast(local_conf),\n",
    "    \"data_files_to_use\": ast.literal_eval(\"['.pdf']\"),\n",
    "    # orchestrator\n",
    "    \"runtime_worker_options\": ParamsUtils.convert_to_ast(worker_options),\n",
    "    \"runtime_num_workers\": MY_CONFIG.RAY_RUNTIME_WORKERS,\n",
    "    \"runtime_pipeline_id\": \"pipeline_id\",\n",
    "    \"runtime_job_id\": \"job_id\",\n",
    "    \"runtime_code_location\": ParamsUtils.convert_to_ast(code_location),\n",
    "}\n",
    "\n",
    "\n",
    "sys.argv = ParamsUtils.dict_to_req(d=(params | ingest_config))\n",
    "# create launcher\n",
    "launcher = RayTransformLauncher(Pdf2ParquetRayTransformConfiguration())\n",
    "# launcher = PythonTransformLauncher(Pdf2ParquetPythonTransformConfiguration())\n",
    "# launch\n",
    "launcher.launch()"
   ]
  },
  {
   "cell_type": "markdown",
   "id": "addd5d13",
   "metadata": {},
   "source": [
    "<a id=\"chunking\"></a>\n",
    "\n",
    "##  Step-3: Doc chunks\n",
    "\n",
    "Split the documents in chunks, according to their layout segmentation."
   ]
  },
  {
   "cell_type": "markdown",
   "id": "7d86f84e",
   "metadata": {},
   "source": [
    "### Set Input/output Folder"
   ]
  },
  {
   "cell_type": "code",
   "execution_count": 7,
   "id": "81843d06",
   "metadata": {},
   "outputs": [
    {
     "name": "stdout",
     "output_type": "stream",
     "text": [
      "Processing input='output/01_parquet_input' --> output='output/02_chunk_out'\n"
     ]
    }
   ],
   "source": [
    "## For this stage the input is the folder containing parquet data which is output from the ingest2parquet tool\n",
    "\n",
    "input_folder = parquet_data_output\n",
    "output_folder = chunk_out\n",
    "\n",
    "print (f\"Processing input='{input_folder}' --> output='{output_folder}'\")"
   ]
  },
  {
   "cell_type": "markdown",
   "id": "f35af440",
   "metadata": {},
   "source": [
    "### Execute "
   ]
  },
  {
   "cell_type": "code",
   "execution_count": 8,
   "id": "d34705d9",
   "metadata": {},
   "outputs": [
    {
     "name": "stderr",
     "output_type": "stream",
     "text": [
      "12:34:00 INFO - Running locally\n",
      "12:34:00 INFO - doc_chunk parameters are : {'chunking_type': <chunking_types.DL_JSON: 'dl_json'>, 'content_column_name': 'contents', 'output_chunk_column_name': 'contents', 'output_jsonpath_column_name': 'doc_jsonpath', 'output_pageno_column_name': 'page_number', 'output_bbox_column_name': 'bbox'}\n",
      "12:34:00 INFO - data factory data_ is using local data access: input_folder - output/01_parquet_input output_folder - output/02_chunk_out\n",
      "12:34:00 INFO - data factory data_ max_files -1, n_sample -1\n",
      "12:34:00 INFO - data factory data_ Not using data sets, checkpointing False, max files -1, random samples -1, files to use ['.parquet'], files to checkpoint ['.parquet']\n",
      "12:34:00 INFO - pipeline id pipeline_id\n",
      "12:34:00 INFO - code location None\n",
      "12:34:00 INFO - number of workers 3 worker options {'num_cpus': 0.8, 'max_restarts': -1}\n",
      "12:34:00 INFO - actor creation delay 0\n",
      "12:34:00 INFO - job details {'job category': 'preprocessing', 'job name': 'doc_chunk', 'job type': 'ray', 'job id': 'job_id'}\n",
      "2024-08-13 12:34:01,862\tINFO worker.py:1744 -- Started a local Ray instance. View the dashboard at \u001b[1m\u001b[32m127.0.0.1:8265 \u001b[39m\u001b[22m\n",
      "\u001b[36m(orchestrate pid=1366450)\u001b[0m 12:34:04 INFO - orchestrator started at 2024-08-13 12:34:04\n",
      "\u001b[36m(orchestrate pid=1366450)\u001b[0m 12:34:04 INFO - Number of files is 3, source profile {'max_file_size': 0.2334575653076172, 'min_file_size': 0.22852230072021484, 'total_file_size': 0.6905832290649414}\n",
      "\u001b[36m(orchestrate pid=1366450)\u001b[0m 12:34:04 INFO - Cluster resources: {'cpus': 16, 'gpus': 1, 'memory': 7.233528900891542, 'object_store': 3.6167644495144486}\n",
      "\u001b[36m(orchestrate pid=1366450)\u001b[0m 12:34:04 INFO - Number of workers - 3 with {'num_cpus': 0.8, 'max_restarts': -1} each\n",
      "\u001b[36m(orchestrate pid=1366450)\u001b[0m 12:34:04 INFO - Completed 0 files (0.0%)  in 7.2320302327473956e-06 min. Waiting for completion\n",
      "\u001b[36m(orchestrate pid=1366450)\u001b[0m 12:34:06 INFO - Completed processing 3 files in 0.0358893076578776 min\n",
      "\u001b[36m(orchestrate pid=1366450)\u001b[0m 12:34:06 INFO - done flushing in 0.001071929931640625 sec\n",
      "12:34:16 INFO - Completed execution in 0.272577691078186 min, execution result 0\n"
     ]
    },
    {
     "name": "stdout",
     "output_type": "stream",
     "text": [
      "CPU times: user 1.56 s, sys: 957 ms, total: 2.52 s\n",
      "Wall time: 20 s\n"
     ]
    },
    {
     "data": {
      "text/plain": [
       "0"
      ]
     },
     "execution_count": 8,
     "metadata": {},
     "output_type": "execute_result"
    }
   ],
   "source": [
    "%%time \n",
    "\n",
    "# Import doc_json_chunk transform configuration\n",
    "from doc_chunk_transform_ray import DocChunkRayTransformConfiguration\n",
    "\n",
    "\n",
    "# Prepare the commandline params\n",
    "local_conf = {\n",
    "    \"input_folder\": input_folder,\n",
    "    \"output_folder\": output_folder,\n",
    "}\n",
    "worker_options = {\"num_cpus\" : MY_CONFIG.RAY_NUM_CPUS}\n",
    "params = {\n",
    "    # where to run\n",
    "    \"run_locally\": True,\n",
    "    # Data access. Only required parameters are specified\n",
    "    \"data_local_config\": ParamsUtils.convert_to_ast(local_conf),\n",
    "    # orchestrator\n",
    "    \"runtime_worker_options\": ParamsUtils.convert_to_ast(worker_options),\n",
    "    \"runtime_num_workers\": MY_CONFIG.RAY_RUNTIME_WORKERS,\n",
    "    # doc_chunk arguments\n",
    "    # ...\n",
    "}\n",
    "\n",
    "# Pass the commandline params\n",
    "sys.argv = ParamsUtils.dict_to_req(d=params)\n",
    "\n",
    "# create launcher\n",
    "launcher = RayTransformLauncher(DocChunkRayTransformConfiguration())\n",
    "# launch\n",
    "launcher.launch()"
   ]
  },
  {
   "cell_type": "markdown",
   "id": "4692975c-49ff-41ae-810e-0f5bc0bbdc53",
   "metadata": {},
   "source": [
    "## Step-4: Exact Dedup\n",
    "\n",
    "Remove documents having identical code to remove bias in the training data. On the content of each document, a SHA256 hash is computed,\n",
    "followed by de-duplication of record having identical hashes."
   ]
  },
  {
   "cell_type": "markdown",
   "id": "5acfd3a2-a236-4143-bcfc-15804f1da7fe",
   "metadata": {},
   "source": [
    "### Set Input/output Folder"
   ]
  },
  {
   "cell_type": "code",
   "execution_count": 9,
   "id": "58a0e1f6-ff53-40aa-96b1-096ade4bd1c0",
   "metadata": {},
   "outputs": [
    {
     "name": "stdout",
     "output_type": "stream",
     "text": [
      "Processing input='output/02_chunk_out' --> output='output/03_ededup_out'\n"
     ]
    }
   ],
   "source": [
    "## For this stage the input is the folder containing parquet data which is output from the ingest2parquet tool\n",
    "\n",
    "input_folder = chunk_out\n",
    "output_folder = ededup_out\n",
    "\n",
    "print (f\"Processing input='{input_folder}' --> output='{output_folder}'\")"
   ]
  },
  {
   "cell_type": "markdown",
   "id": "3661cb37-39c7-4b09-a784-925bfa9eaf1e",
   "metadata": {},
   "source": [
    "### Execute "
   ]
  },
  {
   "cell_type": "code",
   "execution_count": 10,
   "id": "a624b2b2-faad-4325-ac7d-53a840f564ef",
   "metadata": {},
   "outputs": [
    {
     "name": "stderr",
     "output_type": "stream",
     "text": [
      "12:34:18 INFO - Running locally\n",
      "12:34:18 INFO - exact dedup params are {'doc_column': 'contents', 'hash_cpu': 0.5, 'num_hashes': 2}\n",
      "12:34:18 INFO - data factory data_ is using local data access: input_folder - output/02_chunk_out output_folder - output/03_ededup_out\n",
      "12:34:18 INFO - data factory data_ max_files -1, n_sample -1\n",
      "12:34:18 INFO - data factory data_ Not using data sets, checkpointing False, max files -1, random samples -1, files to use ['.parquet'], files to checkpoint ['.parquet']\n",
      "12:34:18 INFO - pipeline id pipeline_id\n",
      "12:34:18 INFO - code location None\n",
      "12:34:18 INFO - number of workers 3 worker options {'num_cpus': 0.8, 'max_restarts': -1}\n",
      "12:34:18 INFO - actor creation delay 0\n",
      "12:34:18 INFO - job details {'job category': 'preprocessing', 'job name': 'ededup', 'job type': 'ray', 'job id': 'job_id'}\n",
      "2024-08-13 12:34:20,624\tINFO worker.py:1744 -- Started a local Ray instance. View the dashboard at \u001b[1m\u001b[32m127.0.0.1:8265 \u001b[39m\u001b[22m\n",
      "\u001b[36m(orchestrate pid=1368412)\u001b[0m 12:34:21 INFO - orchestrator started at 2024-08-13 12:34:21\n",
      "\u001b[36m(orchestrate pid=1368412)\u001b[0m 12:34:21 INFO - Number of files is 3, source profile {'max_file_size': 0.1395549774169922, 'min_file_size': 0.13127803802490234, 'total_file_size': 0.4021778106689453}\n",
      "\u001b[36m(orchestrate pid=1368412)\u001b[0m 12:34:21 INFO - Cluster resources: {'cpus': 16, 'gpus': 1, 'memory': 7.12203827034682, 'object_store': 3.5610191337764263}\n",
      "\u001b[36m(orchestrate pid=1368412)\u001b[0m 12:34:21 INFO - Number of workers - 3 with {'num_cpus': 0.8, 'max_restarts': -1} each\n",
      "\u001b[36m(orchestrate pid=1368412)\u001b[0m 12:34:21 INFO - Completed 0 files (0.0%)  in 1.1761983235677084e-05 min. Waiting for completion\n",
      "\u001b[36m(orchestrate pid=1368412)\u001b[0m 12:34:22 INFO - Completed processing 3 files in 0.01596623659133911 min\n",
      "\u001b[36m(orchestrate pid=1368412)\u001b[0m 12:34:22 INFO - done flushing in 0.0011396408081054688 sec\n",
      "12:34:32 INFO - Completed execution in 0.23181495269139607 min, execution result 0\n"
     ]
    },
    {
     "name": "stdout",
     "output_type": "stream",
     "text": [
      "CPU times: user 116 ms, sys: 139 ms, total: 255 ms\n",
      "Wall time: 15.2 s\n"
     ]
    },
    {
     "data": {
      "text/plain": [
       "0"
      ]
     },
     "execution_count": 10,
     "metadata": {},
     "output_type": "execute_result"
    }
   ],
   "source": [
    "%%time\n",
    "\n",
    "# Import ededup transform configuration\n",
    "from ededup_transform_ray import EdedupRayTransformConfiguration\n",
    "\n",
    "\n",
    "# Prepare the commandline params\n",
    "local_conf = {\n",
    "    \"input_folder\": input_folder,\n",
    "    \"output_folder\": output_folder,\n",
    "}\n",
    "worker_options = {\"num_cpus\" : MY_CONFIG.RAY_NUM_CPUS}\n",
    "params = {\n",
    "    # where to run\n",
    "    \"run_locally\": True,\n",
    "    # Data access. Only required parameters are specified\n",
    "    \"data_local_config\": ParamsUtils.convert_to_ast(local_conf),\n",
    "    # orchestrator\n",
    "    \"runtime_worker_options\": ParamsUtils.convert_to_ast(worker_options),\n",
    "    \"runtime_num_workers\": MY_CONFIG.RAY_RUNTIME_WORKERS,\n",
    "    # ededup parameters\n",
    "    \"ededup_hash_cpu\": 0.5,\n",
    "    \"ededup_num_hashes\": 2,\n",
    "    \"ededup_doc_column\": \"contents\",\n",
    "}\n",
    "\n",
    "# Pass the commandline params\n",
    "sys.argv = ParamsUtils.dict_to_req(d=params)\n",
    "\n",
    "# create launcher\n",
    "launcher = RayTransformLauncher(EdedupRayTransformConfiguration())\n",
    "# launch\n",
    "launcher.launch()"
   ]
  },
  {
   "cell_type": "markdown",
   "id": "f15f4d00-33bb-4d9a-9f34-4d7f3ee0b7bc",
   "metadata": {},
   "source": [
    "## Step-5:  DOC ID generation\n",
    "\n",
    "This transform annotates documents with document \"ids\". It supports the following transformations of the original data:\n",
    "\n",
    " - Adding document hash: this enables the addition of a document hash-based id to the data. The hash is calculated with `hashlib.sha256(doc.encode(\"utf-8\")).hexdigest()`. To enable this annotation, set hash_column to the name of the column, where you want to store it.\n",
    " - Adding integer document id: this allows the addition of an integer document id to the data that is unique across all rows in all tables provided to the transform() method. To enable this annotation, set int_id_column to the name of the column, where you want to store it. **This is a pre-requisite for fuzzy dedup** in the pipeline."
   ]
  },
  {
   "cell_type": "code",
   "execution_count": 11,
   "id": "e6f62394-fbde-495c-bbbb-83161b006bed",
   "metadata": {},
   "outputs": [
    {
     "name": "stdout",
     "output_type": "stream",
     "text": [
      "Processing input='output/03_ededup_out' --> output='output/04_doc_id_out'\n"
     ]
    }
   ],
   "source": [
    "# Input for this stage is the output of exact dedeup component\n",
    "# output of this component makes it possible for fdedup component to run on data.\n",
    "\n",
    "input_folder = ededup_out\n",
    "output_folder = doc_id_out\n",
    "print (f\"Processing input='{input_folder}' --> output='{output_folder}'\")"
   ]
  },
  {
   "cell_type": "code",
   "execution_count": 12,
   "id": "a6daf36d-686c-4e0a-aabf-ce55f999bb2d",
   "metadata": {},
   "outputs": [
    {
     "name": "stderr",
     "output_type": "stream",
     "text": [
      "12:34:34 INFO - Running locally\n",
      "12:34:34 INFO - Doc id parameters are : {'doc_column': 'contents', 'hash_column': 'hash_column', 'int_column': 'int_id_column'}\n",
      "12:34:34 INFO - data factory data_ is using local data access: input_folder - output/03_ededup_out output_folder - output/04_doc_id_out\n",
      "12:34:34 INFO - data factory data_ max_files -1, n_sample -1\n",
      "12:34:34 INFO - data factory data_ Not using data sets, checkpointing False, max files -1, random samples -1, files to use ['.parquet'], files to checkpoint ['.parquet']\n",
      "12:34:34 INFO - pipeline id pipeline_id\n",
      "12:34:34 INFO - code location None\n",
      "12:34:34 INFO - number of workers 3 worker options {'num_cpus': 0.8, 'max_restarts': -1}\n",
      "12:34:34 INFO - actor creation delay 0\n",
      "12:34:34 INFO - job details {'job category': 'preprocessing', 'job name': 'doc_id', 'job type': 'ray', 'job id': 'job_id'}\n",
      "2024-08-13 12:34:36,036\tINFO worker.py:1744 -- Started a local Ray instance. View the dashboard at \u001b[1m\u001b[32m127.0.0.1:8265 \u001b[39m\u001b[22m\n",
      "\u001b[36m(orchestrate pid=1370305)\u001b[0m 12:34:37 INFO - orchestrator started at 2024-08-13 12:34:37\n",
      "\u001b[36m(orchestrate pid=1370305)\u001b[0m 12:34:37 INFO - Number of files is 3, source profile {'max_file_size': 0.1388864517211914, 'min_file_size': 0.0033016204833984375, 'total_file_size': 0.2725563049316406}\n",
      "\u001b[36m(orchestrate pid=1370305)\u001b[0m 12:34:37 INFO - Cluster resources: {'cpus': 16, 'gpus': 1, 'memory': 7.156187440268695, 'object_store': 3.578093718737364}\n",
      "\u001b[36m(orchestrate pid=1370305)\u001b[0m 12:34:37 INFO - Number of workers - 3 with {'num_cpus': 0.8, 'max_restarts': -1} each\n",
      "\u001b[36m(orchestrate pid=1370305)\u001b[0m 12:34:37 INFO - Completed 0 files (0.0%)  in 6.902217864990234e-06 min. Waiting for completion\n",
      "\u001b[36m(RayTransformFileProcessor pid=1371161)\u001b[0m 12:34:37 WARNING - table is empty, skipping processing\n",
      "\u001b[36m(orchestrate pid=1370305)\u001b[0m 12:34:37 INFO - Completed processing 3 files in 0.01346665620803833 min\n",
      "\u001b[36m(orchestrate pid=1370305)\u001b[0m 12:34:37 INFO - done flushing in 0.0009450912475585938 sec\n",
      "12:34:47 INFO - Completed execution in 0.22972739934921266 min, execution result 0\n"
     ]
    },
    {
     "name": "stdout",
     "output_type": "stream",
     "text": [
      "CPU times: user 122 ms, sys: 172 ms, total: 294 ms\n",
      "Wall time: 15 s\n"
     ]
    },
    {
     "data": {
      "text/plain": [
       "0"
      ]
     },
     "execution_count": 12,
     "metadata": {},
     "output_type": "execute_result"
    }
   ],
   "source": [
    "%%time \n",
    "\n",
    "from doc_id_transform_ray import DocIDRayTransformConfiguration\n",
    "local_conf = {\n",
    "    \"input_folder\": input_folder,\n",
    "    \"output_folder\": output_folder,\n",
    "}\n",
    "worker_options = {\"num_cpus\" : MY_CONFIG.RAY_NUM_CPUS}\n",
    "params = {\n",
    "    # where to run\n",
    "    \"run_locally\": True,\n",
    "    # Data access. Only required parameters are specified\n",
    "    \"data_local_config\": ParamsUtils.convert_to_ast(local_conf),\n",
    "    # orchestrator\n",
    "    \"runtime_worker_options\": ParamsUtils.convert_to_ast(worker_options),\n",
    "    \"runtime_num_workers\": MY_CONFIG.RAY_RUNTIME_WORKERS,\n",
    "    # doc id configuration\n",
    "    \"doc_id_doc_column\": \"contents\",\n",
    "    \"doc_id_hash_column\": \"hash_column\",\n",
    "    \"doc_id_int_column\": \"int_id_column\",\n",
    "}\n",
    "sys.argv = ParamsUtils.dict_to_req(d=params)\n",
    "\n",
    "# launch\n",
    "\n",
    "launcher = RayTransformLauncher(DocIDRayTransformConfiguration())\n",
    "launcher.launch()"
   ]
  },
  {
   "cell_type": "markdown",
   "id": "85309751-8556-41c6-ac32-84acc941bc8d",
   "metadata": {},
   "source": [
    "## Step-6: Fuzzy Dedup\n",
    "\n",
    "Post exact deduplication, fuzzy deduplication is applied with\n",
    "the goal of removing code files that may have slight variations and thereby unbiasing\n",
    "the data further. Small variations are quite commonly seen in code data in the form\n",
    "of variations in the values of variables, addittion of logging statements etc. Find near-\n",
    "duplicate."
   ]
  },
  {
   "cell_type": "markdown",
   "id": "fcf574a3-b287-419c-9c86-07b828b41ca6",
   "metadata": {},
   "source": [
    "### Set Input/output Folder"
   ]
  },
  {
   "cell_type": "code",
   "execution_count": 13,
   "id": "9e431c8c-c7c7-48de-ba5f-2c4649c35399",
   "metadata": {},
   "outputs": [
    {
     "name": "stdout",
     "output_type": "stream",
     "text": [
      "Processing input='output/04_doc_id_out' --> output='output/05_fdedup_out'\n"
     ]
    }
   ],
   "source": [
    "## Input to this component is the output of doc_id generator component. \n",
    "\n",
    "input_folder = doc_id_out\n",
    "output_folder = fdedup_out\n",
    "print (f\"Processing input='{input_folder}' --> output='{output_folder}'\")\n"
   ]
  },
  {
   "cell_type": "markdown",
   "id": "f4c82a8f-b513-4fe5-b172-d41b104b54f3",
   "metadata": {},
   "source": [
    "### Execute "
   ]
  },
  {
   "cell_type": "code",
   "execution_count": 14,
   "id": "3864ff77-e9a8-48f7-973b-c3b3aef1a94f",
   "metadata": {},
   "outputs": [
    {
     "name": "stderr",
     "output_type": "stream",
     "text": [
      "12:34:49 INFO - Running locally\n",
      "12:34:49 INFO - fuzzy dedup params are {'doc_column': 'contents', 'id_column': 'int_id_column', 'cluster_column': 'hash_column', 'bucket_cpu': 0.5, 'mhash_cpu': 0.5, 'doc_cpu': 0.5, 'num_doc_actors': 2, 'num_minhash_actors': 1, 'num_bucket_actors': 1, 'num_preprocessors': 2, 'num_permutations': 64, 'threshold': 0.8, 'shingles_size': 5, 'delimiters': ' ', 'snapshot_delay': 1, 'use_bucket_snapshot': False, 'use_doc_snapshot': False, 'random_delay_limit': 10, 'worker_options': {'num_cpus': 0.8}}\n",
      "12:34:49 INFO - data factory data_ is using local data access: input_folder - output/04_doc_id_out output_folder - output/05_fdedup_out\n",
      "12:34:49 INFO - data factory data_ max_files -1, n_sample -1\n",
      "12:34:49 INFO - data factory data_ Not using data sets, checkpointing False, max files -1, random samples -1, files to use ['.parquet'], files to checkpoint ['.parquet']\n",
      "12:34:49 INFO - pipeline id pipeline_id\n",
      "12:34:49 INFO - code location None\n",
      "12:34:49 INFO - number of workers 3 worker options {'num_cpus': 0.8, 'max_restarts': -1}\n",
      "12:34:49 INFO - actor creation delay 0\n",
      "12:34:49 INFO - job details {'job category': 'preprocessing', 'job name': 'fdedup', 'job type': 'ray', 'job id': 'job_id'}\n",
      "2024-08-13 12:34:50,990\tINFO worker.py:1744 -- Started a local Ray instance. View the dashboard at \u001b[1m\u001b[32m127.0.0.1:8265 \u001b[39m\u001b[22m\n",
      "\u001b[36m(orchestrate pid=1372117)\u001b[0m 12:34:52 INFO - orchestrator started at 2024-08-13 12:34:52\n",
      "\u001b[36m(orchestrate pid=1372117)\u001b[0m 12:34:52 INFO - Number of files is 2, source profile {'max_file_size': 0.16434478759765625, 'min_file_size': 0.15470123291015625, 'total_file_size': 0.3190460205078125}\n",
      "\u001b[36m(orchestrate pid=1372117)\u001b[0m 12:34:52 INFO - Cluster resources: {'cpus': 16, 'gpus': 1, 'memory': 7.191739655099809, 'object_store': 3.5958698270842433}\n",
      "\u001b[36m(orchestrate pid=1372117)\u001b[0m 12:34:52 INFO - Number of workers - 3 with {'num_cpus': 0.8, 'max_restarts': -1} each\n",
      "\u001b[36m(orchestrate pid=1372117)\u001b[0m 12:34:52 INFO - starting run from the beginning\n",
      "\u001b[36m(orchestrate pid=1372117)\u001b[0m 12:34:52 INFO - continuing from the very beginning\n",
      "\u001b[36m(orchestrate pid=1372117)\u001b[0m 12:34:52 INFO - Fuzzy: num buckets 5, bucket length 11\n",
      "\u001b[36m(orchestrate pid=1372117)\u001b[0m 12:34:52 INFO - created 1 bucket actors\n",
      "\u001b[36m(orchestrate pid=1372117)\u001b[0m 12:34:52 INFO - created 1 minhash actors\n",
      "\u001b[36m(orchestrate pid=1372117)\u001b[0m 12:34:52 INFO - Table preprocessing uses 2 readers\n",
      "\u001b[36m(orchestrate pid=1372117)\u001b[0m 12:34:52 INFO - created 2 table processor actors\n",
      "\u001b[36m(orchestrate pid=1372117)\u001b[0m 12:34:52 INFO - Completed 0 files (0.0%)  in 4.891554514567057e-06 min. Waiting for completion\n",
      "\u001b[36m(orchestrate pid=1372117)\u001b[0m 12:34:58 INFO - Completed processing 2 files in 0.10287296772003174 min\n",
      "\u001b[36m(orchestrate pid=1372117)\u001b[0m 12:34:58 INFO - creating minhash snapshots\n",
      "\u001b[36m(orchestrate pid=1372117)\u001b[0m 12:34:59 INFO - minhash snapshots created\n",
      "\u001b[36m(orchestrate pid=1372117)\u001b[0m 12:34:59 INFO - creating bucket snapshots\n",
      "\u001b[36m(orchestrate pid=1372117)\u001b[0m 12:35:00 INFO - bucket snapshots created\n",
      "\u001b[36m(orchestrate pid=1372117)\u001b[0m 12:35:00 INFO - created 2 document actors\n",
      "\u001b[36m(orchestrate pid=1372117)\u001b[0m 12:35:00 INFO - created 2 bucket processor actors\n",
      "\u001b[36m(orchestrate pid=1372117)\u001b[0m 12:35:00 INFO - created bucket processor invoker\n",
      "\u001b[36m(orchestrate pid=1372117)\u001b[0m 12:35:00 INFO - added invoker to bucket collectors\n",
      "\u001b[36m(BucketsHash pid=1372961)\u001b[0m 12:35:00 INFO - processing buckets 0 long, 6569 short\n",
      "\u001b[36m(BucketsHash pid=1372961)\u001b[0m 12:35:00 INFO - Done submitting long buckets\n",
      "\u001b[36m(orchestrate pid=1372117)\u001b[0m 12:35:01 INFO - Done processing buckets in 0.01458725929260254 min\n",
      "\u001b[36m(orchestrate pid=1372117)\u001b[0m 12:35:01 INFO - creating document snapshots\n",
      "\u001b[36m(BucketsHashProcessorInvoker pid=1373571)\u001b[0m 12:35:01 INFO - Waiting bucket processing completion. Submitted requests 66\n",
      "\u001b[36m(orchestrate pid=1372117)\u001b[0m 12:35:03 INFO - document snapshots created\n",
      "\u001b[36m(orchestrate pid=1372117)\u001b[0m 12:35:03 INFO - Completed 0 files (0.0%)  in 1.1539459228515625e-05 min. Waiting for completion\n",
      "\u001b[36m(orchestrate pid=1372117)\u001b[0m 12:35:11 INFO - Completed processing 2 files in 0.13067718744277954 min\n",
      "\u001b[36m(orchestrate pid=1372117)\u001b[0m 12:35:11 INFO - done flushing in 0.003916740417480469 sec\n",
      "12:35:21 INFO - Completed execution in 0.532926885286967 min, execution result 0\n"
     ]
    },
    {
     "name": "stdout",
     "output_type": "stream",
     "text": [
      "CPU times: user 196 ms, sys: 185 ms, total: 381 ms\n",
      "Wall time: 33.4 s\n"
     ]
    },
    {
     "data": {
      "text/plain": [
       "0"
      ]
     },
     "execution_count": 14,
     "metadata": {},
     "output_type": "execute_result"
    }
   ],
   "source": [
    "%%time \n",
    "\n",
    "import os\n",
    "import sys\n",
    "\n",
    "from data_processing.utils import ParamsUtils\n",
    "from fdedup_transform_ray import FdedupRayTransformConfiguration\n",
    "\n",
    "# create parameters\n",
    "\n",
    "local_conf = {\n",
    "    \"input_folder\": input_folder,\n",
    "    \"output_folder\": output_folder,\n",
    "}\n",
    "worker_options = {\"num_cpus\" : MY_CONFIG.RAY_NUM_CPUS}\n",
    "code_location = {\"github\": \"github\", \"commit_hash\": \"12345\", \"path\": \"path\"}\n",
    "params = {\n",
    "    # where to run\n",
    "    \"run_locally\": True,\n",
    "    # Data access. Only required parameters are specified\n",
    "    \"data_local_config\": ParamsUtils.convert_to_ast(local_conf),\n",
    "    # Orchestration parameters\n",
    "    \"runtime_worker_options\": ParamsUtils.convert_to_ast(worker_options),\n",
    "    \"runtime_num_workers\": MY_CONFIG.RAY_RUNTIME_WORKERS,\n",
    "    # columns used\n",
    "    \"fdedup_doc_column\": \"contents\",\n",
    "    \"fdedup_id_column\": \"int_id_column\",\n",
    "    \"fdedup_cluster_column\": \"hash_column\",\n",
    "    # infrastructure\n",
    "    \"fdedup_bucket_cpu\": 0.5,\n",
    "    \"fdedup_doc_cpu\": 0.5,\n",
    "    \"fdedup_mhash_cpu\": 0.5,\n",
    "    \"fdedup_num_doc_actors\": 2,\n",
    "    \"fdedup_num_bucket_actors\": 1,\n",
    "    \"fdedup_num_minhash_actors\": 1,\n",
    "    \"fdedup_num_preprocessors\": 2,\n",
    "    # fuzzy parameters\n",
    "    \"fdedup_num_permutations\": 64,\n",
    "    \"fdedup_threshold\": 0.8,\n",
    "    \"fdedup_shingles_size\": 5,\n",
    "    \"fdedup_delimiters\": \" \"\n",
    "}\n",
    "\n",
    "# Pass commandline params\n",
    "sys.argv = ParamsUtils.dict_to_req(d=params)\n",
    "\n",
    "# launch\n",
    "\n",
    "launcher = RayTransformLauncher(FdedupRayTransformConfiguration())\n",
    "launcher.launch()"
   ]
  },
  {
   "cell_type": "markdown",
   "id": "49d1d761-62a7-4a12-ad23-b2c268ad8ed2",
   "metadata": {},
   "source": [
    "## Step-7: Language identification\n",
    "\n",
    "This transform identifies the language of the document components."
   ]
  },
  {
   "cell_type": "markdown",
   "id": "3db05e1e-4c62-4367-93ca-b2ddff95e4b4",
   "metadata": {},
   "source": [
    "### Set Input/output Folder"
   ]
  },
  {
   "cell_type": "code",
   "execution_count": 15,
   "id": "a8ec4fb6-fa62-45d1-9aa1-596d7182b2c9",
   "metadata": {},
   "outputs": [],
   "source": [
    "# input_folder = fdedup_out\n",
    "# output_folder = lang_out \n",
    "# print (f\"Processing input='{input_folder}' --> output='{output_folder}'\")"
   ]
  },
  {
   "cell_type": "markdown",
   "id": "c07e7e5a-064f-4dca-a017-4211f7a3e980",
   "metadata": {},
   "source": [
    "### Execute "
   ]
  },
  {
   "cell_type": "code",
   "execution_count": 16,
   "id": "48dbb2a3-a6f4-4a3d-bb2f-8491fd063611",
   "metadata": {},
   "outputs": [],
   "source": [
    "## disabling this for now\n",
    "\n",
    "# import os\n",
    "# import sys\n",
    "\n",
    "# from data_processing.utils import ParamsUtils\n",
    "# from lang_id_transform import (\n",
    "#     content_column_name_cli_param,\n",
    "#     model_credential_cli_param,\n",
    "#     model_kind_cli_param,\n",
    "#     model_url_cli_param,\n",
    "# )\n",
    "# from lang_models import KIND_FASTTEXT\n",
    "# from lang_id_transform_ray import LangIdentificationRayTransformConfiguration\n",
    "\n",
    "\n",
    "# local_conf = {\n",
    "#     \"input_folder\": input_folder,\n",
    "#     \"output_folder\": output_folder,\n",
    "# }\n",
    "# worker_options = {\"num_cpus\" : MY_CONFIG.RAY_NUM_CPUS}\n",
    "# langid_config = {\n",
    "#     model_credential_cli_param: None, #\"PUT YOUR OWN HUGGINGFACE CREDENTIAL\",\n",
    "#     model_kind_cli_param: KIND_FASTTEXT,\n",
    "#     model_url_cli_param: \"facebook/fasttext-language-identification\",\n",
    "#     # content_column_name_cli_param: \"text\",\n",
    "# }\n",
    "# params = {\n",
    "#     # where to run\n",
    "#     \"run_locally\": True,\n",
    "#     # Data access. Only required parameters are specified\n",
    "#     \"data_local_config\": ParamsUtils.convert_to_ast(local_conf),\n",
    "#     # orchestrator\n",
    "#     \"runtime_worker_options\": ParamsUtils.convert_to_ast(worker_options),\n",
    "#     \"runtime_num_workers\": 1,\n",
    "#     # language selection specific parameters\n",
    "#     **langid_config,\n",
    "# }\n",
    "\n",
    "# sys.argv = ParamsUtils.dict_to_req(d=params)\n",
    "\n",
    "# # create launcher\n",
    "# launcher = RayTransformLauncher(LangIdentificationRayTransformConfiguration())\n",
    "# launcher.launch()\n"
   ]
  },
  {
   "cell_type": "markdown",
   "id": "0646cbb7-3046-44c0-827d-d102d3ff7cb8",
   "metadata": {},
   "source": [
    "## Step-8: Document Quality\n",
    "\n",
    "TBA"
   ]
  },
  {
   "cell_type": "markdown",
   "id": "2e985668-848b-4633-b0d8-9fe70ada0c91",
   "metadata": {},
   "source": [
    "### Set Input/output Folder"
   ]
  },
  {
   "cell_type": "code",
   "execution_count": 17,
   "id": "9f080011-c9fe-430e-9ecc-f2220d2c8d18",
   "metadata": {},
   "outputs": [
    {
     "name": "stdout",
     "output_type": "stream",
     "text": [
      "Processing input='output/05_fdedup_out' --> output='output/07_dq_out'\n"
     ]
    }
   ],
   "source": [
    "# input_folder = lang_out\n",
    "input_folder = fdedup_out\n",
    "output_folder = dq_out\n",
    "print (f\"Processing input='{input_folder}' --> output='{output_folder}'\")"
   ]
  },
  {
   "cell_type": "markdown",
   "id": "c02982c5-f398-4a1a-a9fe-42d7ae748c7c",
   "metadata": {},
   "source": [
    "### Execute "
   ]
  },
  {
   "cell_type": "code",
   "execution_count": 18,
   "id": "29319fb9-b0d8-4f86-9bc5-b92960ad8ae5",
   "metadata": {},
   "outputs": [
    {
     "name": "stderr",
     "output_type": "stream",
     "text": [
      "12:35:22 INFO - Running locally\n",
      "12:35:22 INFO - doc_quality parameters are : {'text_lang': 'en', 'doc_content_column': 'contents', 'bad_word_filepath': '/home/sujee/my-stuff/projects/ai-alliance/data-prep-kit-sujee/transforms/language/doc_quality/python/ldnoobw/en', 's3_cred': None, 'docq_data_factory': <data_processing.data_access.data_access_factory.DataAccessFactory object at 0x7ddc98071180>}\n",
      "12:35:22 INFO - data factory docq_ is using local configuration without input/output path\n",
      "12:35:22 INFO - data factory docq_ max_files -1, n_sample -1\n",
      "12:35:22 INFO - data factory docq_ Not using data sets, checkpointing False, max files -1, random samples -1, files to use ['.parquet'], files to checkpoint ['.parquet']\n",
      "12:35:22 INFO - data factory data_ is using local data access: input_folder - output/05_fdedup_out output_folder - output/07_dq_out\n",
      "12:35:22 INFO - data factory data_ max_files -1, n_sample -1\n",
      "12:35:22 INFO - data factory data_ Not using data sets, checkpointing False, max files -1, random samples -1, files to use ['.parquet'], files to checkpoint ['.parquet']\n",
      "12:35:22 INFO - pipeline id pipeline_id\n",
      "12:35:22 INFO - code location None\n",
      "12:35:22 INFO - number of workers 3 worker options {'num_cpus': 0.8, 'max_restarts': -1}\n",
      "12:35:22 INFO - actor creation delay 0\n",
      "12:35:22 INFO - job details {'job category': 'preprocessing', 'job name': 'docq', 'job type': 'ray', 'job id': 'job_id'}\n",
      "2024-08-13 12:35:24,529\tINFO worker.py:1744 -- Started a local Ray instance. View the dashboard at \u001b[1m\u001b[32m127.0.0.1:8265 \u001b[39m\u001b[22m\n",
      "\u001b[36m(orchestrate pid=1374956)\u001b[0m 12:35:25 INFO - orchestrator started at 2024-08-13 12:35:25\n",
      "\u001b[36m(orchestrate pid=1374956)\u001b[0m 12:35:25 INFO - Number of files is 2, source profile {'max_file_size': 0.14107418060302734, 'min_file_size': 0.1318368911743164, 'total_file_size': 0.27291107177734375}\n",
      "\u001b[36m(orchestrate pid=1374956)\u001b[0m 12:35:25 INFO - Cluster resources: {'cpus': 16, 'gpus': 1, 'memory': 7.000602722167969, 'object_store': 3.5003013610839844}\n",
      "\u001b[36m(orchestrate pid=1374956)\u001b[0m 12:35:25 INFO - Number of workers - 3 with {'num_cpus': 0.8, 'max_restarts': -1} each\n",
      "\u001b[36m(orchestrate pid=1374956)\u001b[0m 12:35:25 INFO - Completed 0 files (0.0%)  in 4.676977793375651e-06 min. Waiting for completion\n",
      "\u001b[36m(RayTransformFileProcessor pid=1375807)\u001b[0m 12:35:25 INFO - Load badwords found locally from /home/sujee/my-stuff/projects/ai-alliance/data-prep-kit-sujee/transforms/language/doc_quality/python/ldnoobw/en\n",
      "\u001b[36m(orchestrate pid=1374956)\u001b[0m 12:35:26 INFO - Completed processing 2 files in 0.02407403786977132 min\n",
      "\u001b[36m(orchestrate pid=1374956)\u001b[0m 12:35:26 INFO - done flushing in 0.0012598037719726562 sec\n",
      "12:35:36 INFO - Completed execution in 0.23861459096272786 min, execution result 0\n",
      "\u001b[36m(RayTransformFileProcessor pid=1375806)\u001b[0m 12:35:26 INFO - Load badwords found locally from /home/sujee/my-stuff/projects/ai-alliance/data-prep-kit-sujee/transforms/language/doc_quality/python/ldnoobw/en\u001b[32m [repeated 2x across cluster]\u001b[0m\n"
     ]
    },
    {
     "name": "stdout",
     "output_type": "stream",
     "text": [
      "CPU times: user 152 ms, sys: 175 ms, total: 326 ms\n",
      "Wall time: 15.7 s\n"
     ]
    },
    {
     "data": {
      "text/plain": [
       "0"
      ]
     },
     "execution_count": 18,
     "metadata": {},
     "output_type": "execute_result"
    }
   ],
   "source": [
    "%%time\n",
    "\n",
    "import os\n",
    "import sys\n",
    "from pathlib import Path\n",
    "\n",
    "from doc_quality_transform import (\n",
    "    text_lang_cli_param,\n",
    "    doc_content_column_cli_param,\n",
    "    bad_word_filepath_cli_param,\n",
    ")\n",
    "from doc_quality_transform_ray import DocQualityRayTransformConfiguration\n",
    "from data_processing.utils import ParamsUtils\n",
    "\n",
    "local_conf = {\n",
    "    \"input_folder\": input_folder,\n",
    "    \"output_folder\": output_folder,\n",
    "}\n",
    "\n",
    "doc_quality_basedir = os.path.join(rootdir, \"transforms\", \"language\", \"doc_quality\", \"python\")\n",
    "worker_options = {\"num_cpus\" : MY_CONFIG.RAY_NUM_CPUS}\n",
    "params = {\n",
    "    # where to run\n",
    "    \"run_locally\": True,\n",
    "    # Data access. Only required parameters are specified\n",
    "    \"data_local_config\": ParamsUtils.convert_to_ast(local_conf),\n",
    "    # orchestrator\n",
    "    \"runtime_worker_options\": ParamsUtils.convert_to_ast(worker_options),\n",
    "    \"runtime_num_workers\": MY_CONFIG.RAY_RUNTIME_WORKERS,\n",
    "    \"runtime_pipeline_id\": \"pipeline_id\",\n",
    "    \"runtime_job_id\": \"job_id\",\n",
    "    \"runtime_creation_delay\": 0,\n",
    "    # doc quality configuration\n",
    "    text_lang_cli_param: \"en\",\n",
    "    doc_content_column_cli_param: \"contents\",\n",
    "    bad_word_filepath_cli_param: os.path.join(doc_quality_basedir, \"ldnoobw\", \"en\"),\n",
    "}\n",
    "\n",
    "\n",
    "Path(output_folder).mkdir(parents=True, exist_ok=True)\n",
    "\n",
    "sys.argv = ParamsUtils.dict_to_req(d=params)\n",
    "\n",
    "# create launcher\n",
    "launcher = RayTransformLauncher(DocQualityRayTransformConfiguration())\n",
    "# launch\n",
    "launcher.launch()"
   ]
  },
  {
   "cell_type": "markdown",
   "id": "5cec9839-13b4-4d32-89c5-38f59c5a89f0",
   "metadata": {},
   "source": [
    "## Step-9: Filtering\n",
    "\n",
    "Filter out documents that do not meet the quality threshold for each annotation. The thresholds are computed based on a distributional\n",
    "analysis as well as manual inspection of samples maintaining the balance between data quality and data volume"
   ]
  },
  {
   "cell_type": "markdown",
   "id": "78c54d69-8aee-4f0f-b74c-35dc0609270f",
   "metadata": {},
   "source": [
    "### Set Input/output Folder"
   ]
  },
  {
   "cell_type": "code",
   "execution_count": 19,
   "id": "a7991811-b19e-43b5-89ac-b24060c0ccfa",
   "metadata": {},
   "outputs": [],
   "source": [
    "# input_folder = dq_out\n",
    "# output_folder = filter_out\n",
    "# print (f\"Processing input='{input_folder}' --> output='{output_folder}'\")"
   ]
  },
  {
   "cell_type": "markdown",
   "id": "c460e05c-aeee-4b53-9dd5-8dfa1afc0ece",
   "metadata": {},
   "source": [
    "### Execute "
   ]
  },
  {
   "cell_type": "code",
   "execution_count": 20,
   "id": "61dea2b0-0e54-4912-8620-886e2b8420ef",
   "metadata": {},
   "outputs": [],
   "source": [
    "# ## Disabling for now\n",
    "\n",
    "# %%time \n",
    "\n",
    "# import os\n",
    "\n",
    "# from data_processing.data_access import DataAccessLocal\n",
    "# from filter_transform import (\n",
    "#     filter_columns_to_drop_cli_param,\n",
    "#     filter_criteria_cli_param,\n",
    "#     filter_logical_operator_cli_param,\n",
    "# )\n",
    "# from filter_transform_ray import FilterRayTransformConfiguration\n",
    "\n",
    "\n",
    "# local_conf = {\n",
    "#     \"input_folder\": input_folder,\n",
    "#     \"output_folder\": output_folder,\n",
    "# }\n",
    "\n",
    "# # TODO\n",
    "# # - decide which rules to apply for filtering\n",
    "\n",
    "\n",
    "# # This is just an example criteria to filter\n",
    "# filter_criteria = [\n",
    "#     \"total_num_lines > 10 AND total_num_lines < 90\",\n",
    "#     \"lang_selected = 1\",\n",
    "# ]\n",
    "# filter_logical_operator = \"AND\"\n",
    "# filter_columns_to_drop = [\"lang_selected\", \"hash_column\"]\n",
    "\n",
    "# filter_params = {\n",
    "#     filter_criteria_cli_param: filter_criteria,\n",
    "#     filter_columns_to_drop_cli_param: filter_columns_to_drop,\n",
    "#     filter_logical_operator_cli_param: filter_logical_operator,\n",
    "# }\n",
    "\n",
    "# worker_options = {\"num_cpus\" : MY_CONFIG.RAY_NUM_CPUS}\n",
    "# launcher_params = {\n",
    "#     # where to run\n",
    "#     \"run_locally\": True,\n",
    "#     # Data access. Only required parameters are specified\n",
    "#     \"data_local_config\": ParamsUtils.convert_to_ast(local_conf),\n",
    "#     # orchestrator\n",
    "#     \"runtime_worker_options\": ParamsUtils.convert_to_ast(worker_options),\n",
    "#     \"runtime_num_workers\": MY_CONFIG.RAY_RUNTIME_WORKERS,\n",
    "# }\n",
    "\n",
    "\n",
    "# sys.argv = ParamsUtils.dict_to_req(launcher_params | filter_params)\n",
    "# # Create the longer to launch with the blocklist transform.\n",
    "# launcher = RayTransformLauncher(FilterRayTransformConfiguration())\n",
    "# # Launch the ray actor(s) to process the input\n",
    "# launcher.launch()"
   ]
  },
  {
   "cell_type": "markdown",
   "id": "5370950a-2a3a-4143-8218-f9b4808099ba",
   "metadata": {},
   "source": [
    "## Step-10:   Text encoding\n",
    "\n",
    "Encode text for the vector storage."
   ]
  },
  {
   "cell_type": "code",
   "execution_count": 21,
   "id": "20a153fa-fd56-401e-86be-4f7617affcc8",
   "metadata": {},
   "outputs": [
    {
     "name": "stdout",
     "output_type": "stream",
     "text": [
      "Processing input='output/07_dq_out' --> output='output/09_encoder_out'\n"
     ]
    }
   ],
   "source": [
    "# input_folder = filter_out\n",
    "input_folder = dq_out\n",
    "output_folder = encoder_out\n",
    "print (f\"Processing input='{input_folder}' --> output='{output_folder}'\")"
   ]
  },
  {
   "cell_type": "code",
   "execution_count": 22,
   "id": "228df6b2-bc62-494b-9697-03ece98d7853",
   "metadata": {},
   "outputs": [
    {
     "name": "stderr",
     "output_type": "stream",
     "text": [
      "12:35:38 INFO - Running locally\n",
      "12:35:38 INFO - text_encoder parameters are : {'content_column_name': 'contents', 'output_embeddings_column_name': 'embeddings', 'model_name': 'sentence-transformers/all-MiniLM-L6-v2'}\n",
      "12:35:38 INFO - data factory data_ is using local data access: input_folder - output/07_dq_out output_folder - output/09_encoder_out\n",
      "12:35:38 INFO - data factory data_ max_files -1, n_sample -1\n",
      "12:35:38 INFO - data factory data_ Not using data sets, checkpointing False, max files -1, random samples -1, files to use ['.parquet'], files to checkpoint ['.parquet']\n",
      "12:35:38 INFO - pipeline id pipeline_id\n",
      "12:35:38 INFO - code location None\n",
      "12:35:38 INFO - number of workers 3 worker options {'num_cpus': 0.8, 'max_restarts': -1}\n",
      "12:35:38 INFO - actor creation delay 0\n",
      "12:35:38 INFO - job details {'job category': 'preprocessing', 'job name': 'text_encoder', 'job type': 'ray', 'job id': 'job_id'}\n",
      "2024-08-13 12:35:40,633\tINFO worker.py:1744 -- Started a local Ray instance. View the dashboard at \u001b[1m\u001b[32m127.0.0.1:8265 \u001b[39m\u001b[22m\n",
      "\u001b[36m(orchestrate pid=1376749)\u001b[0m 12:35:44 INFO - orchestrator started at 2024-08-13 12:35:44\n",
      "\u001b[36m(orchestrate pid=1376749)\u001b[0m 12:35:44 INFO - Number of files is 2, source profile {'max_file_size': 0.1542348861694336, 'min_file_size': 0.14766407012939453, 'total_file_size': 0.3018989562988281}\n",
      "\u001b[36m(orchestrate pid=1376749)\u001b[0m 12:35:44 INFO - Cluster resources: {'cpus': 16, 'gpus': 1, 'memory': 7.047248840332031, 'object_store': 3.5236244201660156}\n",
      "\u001b[36m(orchestrate pid=1376749)\u001b[0m 12:35:44 INFO - Number of workers - 3 with {'num_cpus': 0.8, 'max_restarts': -1} each\n",
      "\u001b[36m(orchestrate pid=1376749)\u001b[0m 12:35:44 INFO - Completed 0 files (0.0%)  in 4.792213439941407e-06 min. Waiting for completion\n",
      "\u001b[36m(orchestrate pid=1376749)\u001b[0m 12:36:23 INFO - Completed processing 2 files in 0.6618279337882995 min\n",
      "\u001b[36m(orchestrate pid=1376749)\u001b[0m 12:36:23 INFO - done flushing in 0.0013456344604492188 sec\n",
      "12:36:33 INFO - Completed execution in 0.9177752137184143 min, execution result 0\n"
     ]
    },
    {
     "name": "stdout",
     "output_type": "stream",
     "text": [
      "CPU times: user 398 ms, sys: 248 ms, total: 645 ms\n",
      "Wall time: 56.7 s\n"
     ]
    },
    {
     "data": {
      "text/plain": [
       "0"
      ]
     },
     "execution_count": 22,
     "metadata": {},
     "output_type": "execute_result"
    }
   ],
   "source": [
    "%%time \n",
    "\n",
    "from text_encoder_transform_ray import TextEncoderRayTransformConfiguration\n",
    "\n",
    "local_conf = {\n",
    "    \"input_folder\": input_folder,\n",
    "    \"output_folder\": output_folder,\n",
    "}\n",
    "worker_options = {\"num_cpus\" : MY_CONFIG.RAY_NUM_CPUS}\n",
    "params = {\n",
    "    # where to run\n",
    "    \"run_locally\": True,\n",
    "    # Data access. Only required parameters are specified\n",
    "    \"data_local_config\": ParamsUtils.convert_to_ast(local_conf),\n",
    "    # orchestrator\n",
    "    \"runtime_worker_options\": ParamsUtils.convert_to_ast(worker_options),\n",
    "    \"runtime_num_workers\": MY_CONFIG.RAY_RUNTIME_WORKERS,\n",
    "    # text_encoder\n",
    "    \"text_encoder_model_name\": MY_CONFIG.EMBEDDING_MODEL,\n",
    "}\n",
    "\n",
    "sys.argv = ParamsUtils.dict_to_req(d=params)\n",
    "# create launcher\n",
    "launcher = RayTransformLauncher(TextEncoderRayTransformConfiguration())\n",
    "# Launch the ray actor(s) to process the input\n",
    "launcher.launch()\n"
   ]
  },
  {
   "cell_type": "markdown",
   "id": "f5e12630-be6b-4188-a925-77117155617b",
   "metadata": {},
   "source": [
    "## Step-11: Copy output to final output dir"
   ]
  },
  {
   "cell_type": "code",
   "execution_count": 23,
   "id": "16dee3b8-31dc-4168-8adb-f2a0a0b5e207",
   "metadata": {},
   "outputs": [
    {
     "name": "stdout",
     "output_type": "stream",
     "text": [
      "Copying output from 'output/09_encoder_out' --> 'output/z_final_output'\n"
     ]
    },
    {
     "data": {
      "text/plain": [
       "'output/z_final_output'"
      ]
     },
     "execution_count": 23,
     "metadata": {},
     "output_type": "execute_result"
    }
   ],
   "source": [
    "import shutil\n",
    "\n",
    "print (f\"Copying output from '{encoder_out}' --> '{output_folder_final}'\")\n",
    "\n",
    "shutil.rmtree(output_folder_final, ignore_errors=True)\n",
    "shutil.copytree(src=encoder_out, dst=output_folder_final)"
   ]
  },
  {
   "cell_type": "code",
   "execution_count": null,
   "id": "12ca71f7-c5e7-4af6-8222-e1eebbe6ef79",
   "metadata": {},
   "outputs": [],
   "source": []
  }
 ],
 "metadata": {
  "kernelspec": {
   "display_name": "Python 3 (ipykernel)",
   "language": "python",
   "name": "python3"
  },
  "language_info": {
   "codemirror_mode": {
    "name": "ipython",
    "version": 3
   },
   "file_extension": ".py",
   "mimetype": "text/x-python",
   "name": "python",
   "nbconvert_exporter": "python",
   "pygments_lexer": "ipython3",
   "version": "3.10.14"
  }
 },
 "nbformat": 4,
 "nbformat_minor": 5
}
