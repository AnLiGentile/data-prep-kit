{
 "cells": [
  {
   "cell_type": "markdown",
   "metadata": {},
   "source": [
    "# Processing HTML Files\n",
    "\n",
    "We will be using **html2parquet transform**\n",
    "\n",
    "References\n",
    "- [html2parquet](https://github.com/IBM/data-prep-kit/tree/dev/transforms/language/html2parquet/python)"
   ]
  },
  {
   "cell_type": "markdown",
   "metadata": {},
   "source": [
    "## Step-1: Data\n",
    "\n",
    "We will process data that is downloaded using [1_crawl_site.ipynb](1_crawl_site.ipynb).\n",
    "\n",
    "We have a couple of crawled HTML files in  `input*` directory. "
   ]
  },
  {
   "cell_type": "markdown",
   "metadata": {},
   "source": [
    "## Step-2: Configuration"
   ]
  },
  {
   "cell_type": "code",
   "execution_count": 1,
   "metadata": {},
   "outputs": [],
   "source": [
    "## All config is defined here\n",
    "from my_config import MY_CONFIG"
   ]
  },
  {
   "cell_type": "markdown",
   "metadata": {},
   "source": [
    "## Step-3: HTML2Parquet"
   ]
  },
  {
   "cell_type": "code",
   "execution_count": 2,
   "metadata": {},
   "outputs": [
    {
     "name": "stderr",
     "output_type": "stream",
     "text": [
      "14:35:21 INFO - html2parquet parameters are : {'output_format': <html2parquet_output_format.MARKDOWN: 'markdown'>, 'favor_precision': <html2parquet_favor_precision.TRUE: 'True'>, 'favor_recall': <html2parquet_favor_recall.TRUE: 'True'>}\n",
      "14:35:21 INFO - pipeline id pipeline_id\n",
      "14:35:21 INFO - code location None\n",
      "14:35:21 INFO - data factory data_ is using local data access: input_folder - input2/thealliance.ai/ output_folder - output\n",
      "14:35:21 INFO - data factory data_ max_files -1, n_sample -1\n",
      "14:35:21 INFO - data factory data_ Not using data sets, checkpointing False, max files -1, random samples -1, files to use ['.html', '.zip'], files to checkpoint ['.parquet']\n",
      "14:35:21 INFO - orchestrator html2parquet started at 2024-11-13 14:35:21\n",
      "14:35:21 INFO - Number of files is 18, source profile {'max_file_size': 0.2035503387451172, 'min_file_size': 0.06348037719726562, 'total_file_size': 1.7128067016601562}\n",
      "14:35:21 INFO - Completed 1 files (5.56%) in 0.003 min\n",
      "14:35:21 INFO - Completed 2 files (11.11%) in 0.004 min\n",
      "14:35:21 INFO - Completed 3 files (16.67%) in 0.004 min\n",
      "14:35:21 INFO - Completed 4 files (22.22%) in 0.004 min\n",
      "14:35:21 INFO - Completed 5 files (27.78%) in 0.004 min\n",
      "14:35:21 INFO - Completed 6 files (33.33%) in 0.004 min\n",
      "14:35:21 INFO - Completed 7 files (38.89%) in 0.005 min\n",
      "14:35:21 INFO - Completed 8 files (44.44%) in 0.005 min\n",
      "14:35:21 INFO - Completed 9 files (50.0%) in 0.005 min\n",
      "14:35:21 INFO - Completed 10 files (55.56%) in 0.005 min\n",
      "14:35:21 INFO - Completed 11 files (61.11%) in 0.005 min\n",
      "14:35:21 INFO - Completed 12 files (66.67%) in 0.006 min\n",
      "14:35:21 INFO - Completed 13 files (72.22%) in 0.006 min\n",
      "14:35:21 INFO - Completed 14 files (77.78%) in 0.006 min\n",
      "14:35:21 INFO - Completed 15 files (83.33%) in 0.006 min\n",
      "14:35:21 INFO - Completed 16 files (88.89%) in 0.006 min\n",
      "14:35:21 INFO - Completed 17 files (94.44%) in 0.006 min\n",
      "14:35:21 INFO - Completed 18 files (100.0%) in 0.007 min\n",
      "14:35:21 INFO - Done processing 18 files, waiting for flush() completion.\n",
      "14:35:21 INFO - done flushing in 0.0 sec\n",
      "14:35:21 INFO - Completed execution in 0.007 min, execution result 0\n"
     ]
    },
    {
     "name": "stdout",
     "output_type": "stream",
     "text": [
      "✅ Job completed successfully\n",
      "CPU times: user 1.25 s, sys: 1.04 s, total: 2.29 s\n",
      "Wall time: 1.34 s\n"
     ]
    }
   ],
   "source": [
    "%%time \n",
    "\n",
    "import ast\n",
    "import os\n",
    "import sys\n",
    "\n",
    "# from html2parquet_transform import Html2ParquetTransform, Html2ParquetTransformConfiguration\n",
    "from html2parquet_transform_python import Html2ParquetPythonTransformConfiguration\n",
    "from data_processing.runtime.pure_python import PythonTransformLauncher\n",
    "from data_processing.utils import GB, ParamsUtils\n",
    "\n",
    "\n",
    "local_conf = {\n",
    "    \"input_folder\": MY_CONFIG.INPUT_DIR,\n",
    "    \"output_folder\": MY_CONFIG.OUTPUT_DIR,\n",
    "}\n",
    "\n",
    "params =  {\n",
    "    \"data_files_to_use\": ast.literal_eval(\"['.html','.zip']\"),\n",
    "    \"html2parquet_output_format\": \"markdown\",\n",
    "    \"data_local_config\": ParamsUtils.convert_to_ast(local_conf),\n",
    "}\n",
    "\n",
    "sys.argv = ParamsUtils.dict_to_req(d=params)\n",
    "# launcher = PythonTransformLauncher(runtime_config=Html2ParquetTransformConfiguration())\n",
    "launcher = PythonTransformLauncher(runtime_config=Html2ParquetPythonTransformConfiguration())\n",
    "\n",
    "return_code = launcher.launch()\n",
    "\n",
    "if return_code == 0:\n",
    "    print (f\"✅ Job completed successfully\")\n",
    "else:\n",
    "    raise Exception (\"❌ Job failed\")"
   ]
  },
  {
   "cell_type": "markdown",
   "metadata": {},
   "source": [
    "## Inspect the Output\n"
   ]
  },
  {
   "cell_type": "code",
   "execution_count": 3,
   "metadata": {},
   "outputs": [
    {
     "name": "stdout",
     "output_type": "stream",
     "text": [
      "Output dimensions (rows x columns)=  (9, 6)\n"
     ]
    },
    {
     "data": {
      "text/html": [
       "<div>\n",
       "<style scoped>\n",
       "    .dataframe tbody tr th:only-of-type {\n",
       "        vertical-align: middle;\n",
       "    }\n",
       "\n",
       "    .dataframe tbody tr th {\n",
       "        vertical-align: top;\n",
       "    }\n",
       "\n",
       "    .dataframe thead th {\n",
       "        text-align: right;\n",
       "    }\n",
       "</style>\n",
       "<table border=\"1\" class=\"dataframe\">\n",
       "  <thead>\n",
       "    <tr style=\"text-align: right;\">\n",
       "      <th></th>\n",
       "      <th>title</th>\n",
       "      <th>document</th>\n",
       "      <th>contents</th>\n",
       "      <th>document_id</th>\n",
       "      <th>size</th>\n",
       "      <th>date_acquired</th>\n",
       "    </tr>\n",
       "  </thead>\n",
       "  <tbody>\n",
       "    <tr>\n",
       "      <th>0</th>\n",
       "      <td>about-aia.html</td>\n",
       "      <td>about-aia.html</td>\n",
       "      <td>AI Alliance members plan to start or enhance p...</td>\n",
       "      <td>0458ffe75d14867d5ea3c455ab4bf24bc0b6670812209a...</td>\n",
       "      <td>1381</td>\n",
       "      <td>2024-11-13T14:35:21.120730</td>\n",
       "    </tr>\n",
       "    <tr>\n",
       "      <th>1</th>\n",
       "      <td>become-a-collaborator.html</td>\n",
       "      <td>become-a-collaborator.html</td>\n",
       "      <td># Become a collaborator\\n\\nWant to get involve...</td>\n",
       "      <td>e3886adc3518259f0ecea4283b99f52a095e93525139c0...</td>\n",
       "      <td>397</td>\n",
       "      <td>2024-11-13T14:35:21.338032</td>\n",
       "    </tr>\n",
       "    <tr>\n",
       "      <th>2</th>\n",
       "      <td>community.html</td>\n",
       "      <td>community.html</td>\n",
       "      <td># Join the Community\\n\\nJoin leading AI innova...</td>\n",
       "      <td>eaa326274fea96c05c270dd7527faeb070c6ca704e63ae...</td>\n",
       "      <td>2957</td>\n",
       "      <td>2024-11-13T14:35:21.361282</td>\n",
       "    </tr>\n",
       "    <tr>\n",
       "      <th>3</th>\n",
       "      <td>blog.html</td>\n",
       "      <td>blog.html</td>\n",
       "      <td>![](https://images.prismic.io/ai-alliance/ZyPy...</td>\n",
       "      <td>9907b2cab6aa23704d0ff3a475c38f33f5f2daccf6bb5a...</td>\n",
       "      <td>3193</td>\n",
       "      <td>2024-11-13T14:35:21.348011</td>\n",
       "    </tr>\n",
       "    <tr>\n",
       "      <th>4</th>\n",
       "      <td>contact.html</td>\n",
       "      <td>contact.html</td>\n",
       "      <td># Contact us\\n\\nWe’re here to help and answer ...</td>\n",
       "      <td>31062192f12429eda320c8a6c5f1d2f725f5579be515a7...</td>\n",
       "      <td>462</td>\n",
       "      <td>2024-11-13T14:35:21.372251</td>\n",
       "    </tr>\n",
       "  </tbody>\n",
       "</table>\n",
       "</div>"
      ],
      "text/plain": [
       "                        title                    document  \\\n",
       "0              about-aia.html              about-aia.html   \n",
       "1  become-a-collaborator.html  become-a-collaborator.html   \n",
       "2              community.html              community.html   \n",
       "3                   blog.html                   blog.html   \n",
       "4                contact.html                contact.html   \n",
       "\n",
       "                                            contents  \\\n",
       "0  AI Alliance members plan to start or enhance p...   \n",
       "1  # Become a collaborator\\n\\nWant to get involve...   \n",
       "2  # Join the Community\\n\\nJoin leading AI innova...   \n",
       "3  ![](https://images.prismic.io/ai-alliance/ZyPy...   \n",
       "4  # Contact us\\n\\nWe’re here to help and answer ...   \n",
       "\n",
       "                                         document_id  size  \\\n",
       "0  0458ffe75d14867d5ea3c455ab4bf24bc0b6670812209a...  1381   \n",
       "1  e3886adc3518259f0ecea4283b99f52a095e93525139c0...   397   \n",
       "2  eaa326274fea96c05c270dd7527faeb070c6ca704e63ae...  2957   \n",
       "3  9907b2cab6aa23704d0ff3a475c38f33f5f2daccf6bb5a...  3193   \n",
       "4  31062192f12429eda320c8a6c5f1d2f725f5579be515a7...   462   \n",
       "\n",
       "                date_acquired  \n",
       "0  2024-11-13T14:35:21.120730  \n",
       "1  2024-11-13T14:35:21.338032  \n",
       "2  2024-11-13T14:35:21.361282  \n",
       "3  2024-11-13T14:35:21.348011  \n",
       "4  2024-11-13T14:35:21.372251  "
      ]
     },
     "execution_count": 3,
     "metadata": {},
     "output_type": "execute_result"
    }
   ],
   "source": [
    "from my_utils import read_parquet_files_as_df\n",
    "\n",
    "output_df = read_parquet_files_as_df(MY_CONFIG.OUTPUT_DIR)\n",
    "\n",
    "print (\"Output dimensions (rows x columns)= \", output_df.shape)\n",
    "\n",
    "output_df.head(5)\n",
    "\n",
    "## To display certain columns\n",
    "#parquet_df[['column1', 'column2', 'column3']].head(5)"
   ]
  }
 ],
 "metadata": {
  "kernelspec": {
   "display_name": "dpk-html-processing-1-py311",
   "language": "python",
   "name": "python3"
  },
  "language_info": {
   "codemirror_mode": {
    "name": "ipython",
    "version": 3
   },
   "file_extension": ".py",
   "mimetype": "text/x-python",
   "name": "python",
   "nbconvert_exporter": "python",
   "pygments_lexer": "ipython3",
   "version": "3.11.10"
  }
 },
 "nbformat": 4,
 "nbformat_minor": 2
}
