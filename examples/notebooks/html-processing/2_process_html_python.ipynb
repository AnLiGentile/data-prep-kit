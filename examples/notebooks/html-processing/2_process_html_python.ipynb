{
 "cells": [
  {
   "cell_type": "markdown",
   "metadata": {},
   "source": [
    "# Processing HTML Files\n",
    "\n",
    "We will be using **html2parquet transform**\n",
    "\n",
    "References\n",
    "- [html2parquet](https://github.com/IBM/data-prep-kit/tree/dev/transforms/language/html2parquet/python)"
   ]
  },
  {
   "cell_type": "markdown",
   "metadata": {},
   "source": [
    "## Step-1: Data\n",
    "\n",
    "We will process data that is downloaded using [1_crawl_site.ipynb](1_crawl_site.ipynb).\n",
    "\n",
    "We have a couple of crawled HTML files in  `input*` directory. "
   ]
  },
  {
   "cell_type": "markdown",
   "metadata": {},
   "source": [
    "## Step-2: Configuration"
   ]
  },
  {
   "cell_type": "code",
   "execution_count": 1,
   "metadata": {},
   "outputs": [],
   "source": [
    "## All config is defined here\n",
    "from my_config import MY_CONFIG"
   ]
  },
  {
   "cell_type": "markdown",
   "metadata": {},
   "source": [
    "## Step-3: HTML2Parquet"
   ]
  },
  {
   "cell_type": "code",
   "execution_count": 2,
   "metadata": {},
   "outputs": [
    {
     "ename": "AttributeError",
     "evalue": "'Html2ParquetTransform' object has no attribute 'get_name'",
     "output_type": "error",
     "traceback": [
      "\u001b[0;31m---------------------------------------------------------------------------\u001b[0m",
      "\u001b[0;31mAttributeError\u001b[0m                            Traceback (most recent call last)",
      "File \u001b[0;32m<timed exec>:20\u001b[0m\n",
      "File \u001b[0;32m~/apps/anaconda3/envs/dpk-html-processing-py311/lib/python3.11/site-packages/data_processing/runtime/pure_python/transform_launcher.py:43\u001b[0m, in \u001b[0;36mPythonTransformLauncher.__init__\u001b[0;34m(self, runtime_config, data_access_factory)\u001b[0m\n\u001b[1;32m     33\u001b[0m \u001b[38;5;28;01mdef\u001b[39;00m \u001b[38;5;21m__init__\u001b[39m(\n\u001b[1;32m     34\u001b[0m     \u001b[38;5;28mself\u001b[39m,\n\u001b[1;32m     35\u001b[0m     runtime_config: PythonTransformRuntimeConfiguration,\n\u001b[1;32m     36\u001b[0m     data_access_factory: DataAccessFactoryBase \u001b[38;5;241m=\u001b[39m DataAccessFactory(),\n\u001b[1;32m     37\u001b[0m ):\n\u001b[1;32m     38\u001b[0m \u001b[38;5;250m    \u001b[39m\u001b[38;5;124;03m\"\"\"\u001b[39;00m\n\u001b[1;32m     39\u001b[0m \u001b[38;5;124;03m    Creates driver\u001b[39;00m\n\u001b[1;32m     40\u001b[0m \u001b[38;5;124;03m    :param runtime_config: transform runtime factory\u001b[39;00m\n\u001b[1;32m     41\u001b[0m \u001b[38;5;124;03m    :param data_access_factory: the factory to create DataAccess instances.\u001b[39;00m\n\u001b[1;32m     42\u001b[0m \u001b[38;5;124;03m    \"\"\"\u001b[39;00m\n\u001b[0;32m---> 43\u001b[0m     \u001b[38;5;28;43msuper\u001b[39;49m\u001b[43m(\u001b[49m\u001b[43m)\u001b[49m\u001b[38;5;241;43m.\u001b[39;49m\u001b[38;5;21;43m__init__\u001b[39;49m\u001b[43m(\u001b[49m\u001b[43mruntime_config\u001b[49m\u001b[43m,\u001b[49m\u001b[43m \u001b[49m\u001b[43mdata_access_factory\u001b[49m\u001b[43m)\u001b[49m\n\u001b[1;32m     44\u001b[0m     \u001b[38;5;28mself\u001b[39m\u001b[38;5;241m.\u001b[39mexecution_config \u001b[38;5;241m=\u001b[39m PythonTransformExecutionConfiguration(name\u001b[38;5;241m=\u001b[39mruntime_config\u001b[38;5;241m.\u001b[39mget_name())\n",
      "File \u001b[0;32m~/apps/anaconda3/envs/dpk-html-processing-py311/lib/python3.11/site-packages/data_processing/runtime/transform_launcher.py:37\u001b[0m, in \u001b[0;36mAbstractTransformLauncher.__init__\u001b[0;34m(self, runtime_config, data_access_factory)\u001b[0m\n\u001b[1;32m     31\u001b[0m \u001b[38;5;250m\u001b[39m\u001b[38;5;124;03m\"\"\"\u001b[39;00m\n\u001b[1;32m     32\u001b[0m \u001b[38;5;124;03mCreates driver\u001b[39;00m\n\u001b[1;32m     33\u001b[0m \u001b[38;5;124;03m:param runtime_config: transform runtime factory\u001b[39;00m\n\u001b[1;32m     34\u001b[0m \u001b[38;5;124;03m:param data_access_factory: the factory to create DataAccess instances.\u001b[39;00m\n\u001b[1;32m     35\u001b[0m \u001b[38;5;124;03m\"\"\"\u001b[39;00m\n\u001b[1;32m     36\u001b[0m \u001b[38;5;28mself\u001b[39m\u001b[38;5;241m.\u001b[39mruntime_config \u001b[38;5;241m=\u001b[39m runtime_config\n\u001b[0;32m---> 37\u001b[0m \u001b[38;5;28mself\u001b[39m\u001b[38;5;241m.\u001b[39mname \u001b[38;5;241m=\u001b[39m \u001b[38;5;28;43mself\u001b[39;49m\u001b[38;5;241;43m.\u001b[39;49m\u001b[43mruntime_config\u001b[49m\u001b[38;5;241;43m.\u001b[39;49m\u001b[43mget_name\u001b[49m()\n\u001b[1;32m     38\u001b[0m \u001b[38;5;28mself\u001b[39m\u001b[38;5;241m.\u001b[39mdata_access_factory \u001b[38;5;241m=\u001b[39m data_access_factory\n",
      "\u001b[0;31mAttributeError\u001b[0m: 'Html2ParquetTransform' object has no attribute 'get_name'"
     ]
    }
   ],
   "source": [
    "%%time \n",
    "\n",
    "import ast\n",
    "import os\n",
    "import sys\n",
    "\n",
    "from html2parquet_transform import Html2ParquetTransform, Html2ParquetTransformConfiguration\n",
    "from data_processing.runtime.pure_python import PythonTransformLauncher\n",
    "from data_processing.utils import GB, ParamsUtils\n",
    "\n",
    "\n",
    "html2parquet_params = {}\n",
    "\n",
    "params = {\n",
    "    \"input_folder\": MY_CONFIG.INPUT_DIR,\n",
    "    \"output_folder\": MY_CONFIG.OUTPUT_DIR,\n",
    "    \"html2parquet_params\": html2parquet_params,\n",
    "}\n",
    "\n",
    "sys.argv = ParamsUtils.dict_to_req(d=params)\n",
    "# create launcher\n",
    "launcher = PythonTransformLauncher(Html2ParquetTransform(html2parquet_params))\n",
    "\n",
    "return_code = launcher.launch()\n",
    "\n",
    "if return_code == 0:\n",
    "    print (f\"✅ Stage:{STAGE} completed successfully\")\n",
    "else:\n",
    "    raise Exception (\"❌ Job failed\")"
   ]
  }
 ],
 "metadata": {
  "kernelspec": {
   "display_name": "dpk-html-processing-py311",
   "language": "python",
   "name": "python3"
  },
  "language_info": {
   "codemirror_mode": {
    "name": "ipython",
    "version": 3
   },
   "file_extension": ".py",
   "mimetype": "text/x-python",
   "name": "python",
   "nbconvert_exporter": "python",
   "pygments_lexer": "ipython3",
   "version": "3.11.10"
  }
 },
 "nbformat": 4,
 "nbformat_minor": 2
}
