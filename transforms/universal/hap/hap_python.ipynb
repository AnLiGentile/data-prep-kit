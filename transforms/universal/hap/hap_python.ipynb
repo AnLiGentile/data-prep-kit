{
 "cells": [
  {
   "cell_type": "markdown",
   "id": "cefa9cf6-e043-4b75-b416-a0b26c8cb3ad",
   "metadata": {},
   "source": [
    "**** These pip installs need to be adapted to use the appropriate release level. Alternatively, The venv running the jupyter lab could be pre-configured with a requirement file that includes the right release. Example for transform developers working from git clone:\n",
    "```\n",
    "    make venv \n",
    "    source venv/bin/activate \n",
    "    pip install jupyterlab\n",
    "```"
   ]
  },
  {
   "cell_type": "code",
   "execution_count": 1,
   "id": "4a84e965-feeb-424d-9263-9f127e53a1aa",
   "metadata": {},
   "outputs": [],
   "source": [
    "%%capture\n",
    "## This is here as a reference only\n",
    "# Users and application developers must use the right tag for the latest from pypi\n",
    "%pip install data-prep-toolkit\n",
    "%pip install data-prep-toolkit-transforms==0.2.2.dev3"
   ]
  },
  {
   "cell_type": "markdown",
   "id": "1d695832-16bc-48d3-a9c3-6ce650ae4a5c",
   "metadata": {},
   "source": [
    "**** Configure the transform parameters. The set of dictionary keys holding DocQualityTransform configuration for values are as follows:\n",
    " - model_name_or_path - specify the HAP model, which should be compatible with HuggingFace's AutoModelForSequenceClassification. Defaults to IBM's open-source toxicity classifier ibm-granite/granite-guardian-hap-38m.\n",
    " - annotation_column - the column name containing hap (toxicity) score in the output .parquet file. Defaults to hap_score.\n",
    " - doc_text_column - the column name containing the document text in the input .parquet file. Defaults to contents.\n",
    " - batch_size - modify it based on the infrastructure capacity. Defaults to 128.\n",
    " - max_length - the maximum length for the tokenizer. Defaults to 512."
   ]
  },
  {
   "cell_type": "markdown",
   "id": "3f9dbf94-2db4-492d-bbcb-53ac3948c256",
   "metadata": {},
   "source": [
    "***** Import required classes and modules"
   ]
  },
  {
   "cell_type": "code",
   "execution_count": null,
   "id": "38aebf49-9460-4951-bb04-7045dec28690",
   "metadata": {},
   "outputs": [
    {
     "name": "stderr",
     "output_type": "stream",
     "text": [
      "[nltk_data] Downloading package punkt_tab to /Users/ian/nltk_data...\n",
      "[nltk_data]   Package punkt_tab is already up-to-date!\n"
     ]
    }
   ],
   "source": [
    "import ast\n",
    "import os\n",
    "import sys\n",
    "\n",
    "from data_processing.runtime.pure_python import PythonTransformLauncher\n",
    "from data_processing.utils import ParamsUtils\n",
    "from dpk_hap.transform_python import HAPPythonTransformConfiguration"
   ]
  },
  {
   "cell_type": "markdown",
   "id": "f443108f-40e4-40e5-a052-e8a7f4fbccdf",
   "metadata": {},
   "source": [
    "***** Setup runtime parameters for this transform and invoke transform"
   ]
  },
  {
   "cell_type": "code",
   "execution_count": null,
   "id": "6a8ec5e4-1f52-4c61-9c9e-4618f9034b80",
   "metadata": {},
   "outputs": [],
   "source": [
    "# create parameters\n",
    "HAPRuntime(input_folder=\"../test-data/input\",\n",
    "        output_folder=\"../output\",\n",
    "        model_name_or_path= 'ibm-granite/granite-guardian-hap-38m',\n",
    "        annotation_column= \"hap_score\",\n",
    "        doc_text_column= \"contents\",\n",
    "        inference_engine= \"CPU\",\n",
    "        max_length= 512,\n",
    "        batch_size= 128,\n",
    "        ).transform()"
   ]
  },
  {
   "cell_type": "markdown",
   "id": "0bd4ad5c-a1d9-4ea2-abb7-e43571095392",
   "metadata": {},
   "source": [
    "**** The specified folder will include the transformed parquet files."
   ]
  },
  {
   "cell_type": "code",
   "execution_count": 5,
   "id": "f21d5d9b-562d-4530-8cea-2de5b63eb1dc",
   "metadata": {},
   "outputs": [
    {
     "data": {
      "text/plain": [
       "['../output/metadata.json', '../output/test1.parquet']"
      ]
     },
     "execution_count": 5,
     "metadata": {},
     "output_type": "execute_result"
    }
   ],
   "source": [
    "# the outputs will be located in the following folders\n",
    "import glob\n",
    "glob.glob(\"../output/*\")"
   ]
  },
  {
   "cell_type": "code",
   "execution_count": null,
   "id": "2cd3367a-205f-4d33-83fb-106e32173bc0",
   "metadata": {},
   "outputs": [],
   "source": []
  }
 ],
 "metadata": {
  "kernelspec": {
   "display_name": "Python 3 (ipykernel)",
   "language": "python",
   "name": "python3"
  },
  "language_info": {
   "codemirror_mode": {
    "name": "ipython",
    "version": 3
   },
   "file_extension": ".py",
   "mimetype": "text/x-python",
   "name": "python",
   "nbconvert_exporter": "python",
   "pygments_lexer": "ipython3",
   "version": "3.11.0"
  }
 },
 "nbformat": 4,
 "nbformat_minor": 5
}
